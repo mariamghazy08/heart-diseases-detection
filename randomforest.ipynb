{
  "nbformat": 4,
  "nbformat_minor": 0,
  "metadata": {
    "colab": {
      "provenance": []
    },
    "kernelspec": {
      "name": "python3",
      "display_name": "Python 3"
    },
    "language_info": {
      "name": "python"
    }
  },
  "cells": [
    {
      "cell_type": "code",
      "source": [
        "import pandas as pd\n",
        "data = pd.read_csv('/content/heart.csv')"
      ],
      "metadata": {
        "id": "qqwesFnDtMzB"
      },
      "execution_count": null,
      "outputs": []
    },
    {
      "cell_type": "code",
      "source": [
        "data = pd.get_dummies(data, columns = ['sex', 'cp', 'fbs', 'restecg', 'exang', 'slope', 'ca', 'thal'])"
      ],
      "metadata": {
        "id": "jjdH_8J01eKQ"
      },
      "execution_count": null,
      "outputs": []
    },
    {
      "cell_type": "code",
      "source": [
        "X = data.drop(columns='target', axis=1)\n",
        "Y = data['target']\n",
        "print(X)\n",
        "print(Y)"
      ],
      "metadata": {
        "colab": {
          "base_uri": "https://localhost:8080/"
        },
        "id": "D8gnUX6o1eTI",
        "outputId": "895a520e-36fc-49c2-cb09-95dac648a27b"
      },
      "execution_count": null,
      "outputs": [
        {
          "output_type": "stream",
          "name": "stdout",
          "text": [
            "      age  trestbps  chol  thalach  oldpeak  sex_0  sex_1   cp_0   cp_1  \\\n",
            "0      52       125   212      168      1.0  False   True   True  False   \n",
            "1      53       140   203      155      3.1  False   True   True  False   \n",
            "2      70       145   174      125      2.6  False   True   True  False   \n",
            "3      61       148   203      161      0.0  False   True   True  False   \n",
            "4      62       138   294      106      1.9   True  False   True  False   \n",
            "...   ...       ...   ...      ...      ...    ...    ...    ...    ...   \n",
            "1020   59       140   221      164      0.0  False   True  False   True   \n",
            "1021   60       125   258      141      2.8  False   True   True  False   \n",
            "1022   47       110   275      118      1.0  False   True   True  False   \n",
            "1023   50       110   254      159      0.0   True  False   True  False   \n",
            "1024   54       120   188      113      1.4  False   True   True  False   \n",
            "\n",
            "       cp_2  ...  slope_2   ca_0   ca_1   ca_2   ca_3   ca_4  thal_0  thal_1  \\\n",
            "0     False  ...     True  False  False   True  False  False   False   False   \n",
            "1     False  ...    False   True  False  False  False  False   False   False   \n",
            "2     False  ...    False   True  False  False  False  False   False   False   \n",
            "3     False  ...     True  False   True  False  False  False   False   False   \n",
            "4     False  ...    False  False  False  False   True  False   False   False   \n",
            "...     ...  ...      ...    ...    ...    ...    ...    ...     ...     ...   \n",
            "1020  False  ...     True   True  False  False  False  False   False   False   \n",
            "1021  False  ...    False  False   True  False  False  False   False   False   \n",
            "1022  False  ...    False  False   True  False  False  False   False   False   \n",
            "1023  False  ...     True   True  False  False  False  False   False   False   \n",
            "1024  False  ...    False  False   True  False  False  False   False   False   \n",
            "\n",
            "      thal_2  thal_3  \n",
            "0      False    True  \n",
            "1      False    True  \n",
            "2      False    True  \n",
            "3      False    True  \n",
            "4       True   False  \n",
            "...      ...     ...  \n",
            "1020    True   False  \n",
            "1021   False    True  \n",
            "1022    True   False  \n",
            "1023    True   False  \n",
            "1024   False    True  \n",
            "\n",
            "[1025 rows x 30 columns]\n",
            "0       0\n",
            "1       0\n",
            "2       0\n",
            "3       0\n",
            "4       0\n",
            "       ..\n",
            "1020    1\n",
            "1021    0\n",
            "1022    0\n",
            "1023    1\n",
            "1024    0\n",
            "Name: target, Length: 1025, dtype: int64\n"
          ]
        }
      ]
    },
    {
      "cell_type": "code",
      "source": [
        "from sklearn.model_selection import train_test_split\n",
        "X = data.drop(columns='target', axis=1)\n",
        "Y = data['target']\n",
        "#split data\n",
        "X_train, X_test, Y_train, Y_test = train_test_split(X, Y, test_size=0.2,random_state=42)"
      ],
      "metadata": {
        "id": "suT4WMlS1ebA"
      },
      "execution_count": null,
      "outputs": []
    },
    {
      "cell_type": "code",
      "source": [
        "from sklearn.ensemble import RandomForestClassifier\n",
        "from sklearn.preprocessing import StandardScaler\n",
        "from sklearn.metrics import accuracy_score , classification_report , confusion_matrix\n",
        "import pandas as pd\n",
        "#Standardiztion of data\n",
        "scaler_class= StandardScaler()\n",
        "X_train_scaled =scaler_class.fit_transform(X_train)\n",
        "X_test_scaled =scaler_class.transform(X_test)\n",
        "#RandomForestClassifier\n",
        "RF= RandomForestClassifier(n_estimators=50,random_state=42)\n",
        "RF.fit(X_train_scaled,Y_train)\n",
        "#Predict using the DecisionTreeClassifier\n",
        "y_pred_RF =RF.predict(X_test_scaled)\n",
        "#Evaluate the model\n",
        "accuracy_RF= accuracy_score(Y_test , y_pred_RF)\n",
        "classification_report_RF= classification_report(Y_test , y_pred_RF)\n",
        "confusion_matrix_RF= confusion_matrix(Y_test , y_pred_RF)\n",
        "print(f\"RandomForestClassifier Classification Accuracy: {accuracy_RF}\")\n",
        "print(f\"RandomForestClassifier Classification classification_report: {classification_report_RF}\")\n",
        "print(f\"RandomForestClassifier Classification confusion_matrix: {confusion_matrix_RF}\")\n",
        "\n",
        "\n",
        "\n",
        "\n"
      ],
      "metadata": {
        "colab": {
          "base_uri": "https://localhost:8080/"
        },
        "id": "l6w1PPOe1VpZ",
        "outputId": "bd9b4048-63ef-4f4a-ac62-7e01558a56c6"
      },
      "execution_count": null,
      "outputs": [
        {
          "output_type": "stream",
          "name": "stdout",
          "text": [
            "RandomForestClassifier Classification Accuracy: 0.9853658536585366\n",
            "RandomForestClassifier Classification classification_report:               precision    recall  f1-score   support\n",
            "\n",
            "           0       0.97      1.00      0.99       102\n",
            "           1       1.00      0.97      0.99       103\n",
            "\n",
            "    accuracy                           0.99       205\n",
            "   macro avg       0.99      0.99      0.99       205\n",
            "weighted avg       0.99      0.99      0.99       205\n",
            "\n",
            "RandomForestClassifier Classification confusion_matrix: [[102   0]\n",
            " [  3 100]]\n"
          ]
        }
      ]
    },
    {
      "cell_type": "code",
      "source": [
        "# accuracy score on the training data\n",
        "X_train_prediction = RF.predict(X_train_scaled)\n",
        "training_data_accuracy = accuracy_score(X_train_prediction, Y_train)\n",
        "print('Accuracy score of the training data : ', training_data_accuracy)"
      ],
      "metadata": {
        "colab": {
          "base_uri": "https://localhost:8080/"
        },
        "id": "RcyURJkw5QAK",
        "outputId": "f125e6b5-f8c1-461c-c314-f2a1b90dbccc"
      },
      "execution_count": null,
      "outputs": [
        {
          "output_type": "stream",
          "name": "stdout",
          "text": [
            "Accuracy score of the training data :  1.0\n"
          ]
        }
      ]
    },
    {
      "cell_type": "code",
      "source": [
        "# accuracy score on the test data\n",
        "X_test_prediction = RF.predict(X_test_scaled)\n",
        "test_data_accuracy = accuracy_score(X_test_prediction, Y_test)\n",
        "print('Accuracy score of the test data : ', test_data_accuracy)"
      ],
      "metadata": {
        "colab": {
          "base_uri": "https://localhost:8080/"
        },
        "id": "3h3zHEan5g7I",
        "outputId": "981aaf03-7638-4908-99ba-df83eee226d0"
      },
      "execution_count": null,
      "outputs": [
        {
          "output_type": "stream",
          "name": "stdout",
          "text": [
            "Accuracy score of the test data :  0.9853658536585366\n"
          ]
        }
      ]
    },
    {
      "cell_type": "code",
      "source": [
        "import pickle"
      ],
      "metadata": {
        "id": "NWOSaKpd6uHq"
      },
      "execution_count": null,
      "outputs": []
    },
    {
      "cell_type": "code",
      "source": [
        "filename = 'trained_model.sav'\n",
        "pickle.dump(RF, open(filename, 'wb'))"
      ],
      "metadata": {
        "id": "YzdFRYiz7S35"
      },
      "execution_count": null,
      "outputs": []
    },
    {
      "cell_type": "code",
      "source": [
        "# loading the saved model\n",
        "loaded_model = pickle.load(open('trained_model.sav', 'rb'))"
      ],
      "metadata": {
        "id": "aCYdPlmn7fpa"
      },
      "execution_count": null,
      "outputs": []
    }
  ]
}